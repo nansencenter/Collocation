{
 "cells": [
  {
   "cell_type": "markdown",
   "metadata": {},
   "source": [
    "\\begin{eqnarray}\n",
    "  \\begin{array}{r} \\mathrm{calibrated\\ drogued\\ drifter\\ \\ (in\\ situ)}\\ \\\\\n",
    "                   \\mathrm{analysis\\ (nowcast)} \\\\\n",
    "                   \\mathrm{analysis\\ extrapolation\\ from\\ before\\ (forecast)} \\\\\n",
    "                   \\mathrm{analysis\\ extrapolation\\ from\\ after\\ \\ (revcast)} \\end{array}\n",
    "  \\begin{array}{r} I \\\\ N \\\\ F \\\\ R \\end{array}\n",
    "  \\begin{array}{c} = \\\\  =  \\\\ = \\\\ = \\end{array}\n",
    "  \\begin{array}{l} \\color{white} \\alpha_N + \\beta_N \\color{black} t + \\delta_I \\\\\n",
    "                   \\alpha_N + \\beta_N t + \\delta_N \\\\\n",
    "                   \\alpha_F + \\beta_F t + \\delta_N + \\delta_F \\\\\n",
    "                   \\alpha_R + \\beta_R t + \\delta_N + \\delta_R \\end{array}\n",
    "  \\label{regress2}\n",
    "\\end{eqnarray}\n",
    "\n",
    "\n",
    "Waiting time for calibration and validation of a new satellite\n",
    "can be reduced considerably when two instead of three collocations\n",
    "are employed (Su et al. 2014).  Here, we demonstrate the retrieval\n",
    "of regression slope using two collocation methods: standard triple\n",
    "collocation (Stoffelen 1998) and collocation using only two datasets,\n",
    "where one dataset offers three samples (the other two samples being\n",
    "\"nearby\" in time or space).  We show that both methods (triple and\n",
    "INFR) provide estimates of regression slope.\n",
    "\n",
    "a) Triple collocation employs this error model:\n",
    "\n",
    "in situ      II =           TT + DI\n",
    "nowcast      NN = an + bn * TT + DN\n",
    "satellite    SS = as + bs * TT + DS\n",
    "\n",
    "where TT is truth and DI/DN/DS are independent errors.\n",
    "The regression slope of interest is bn (or bs).  Following\n",
    "McColl et al. (2014), we can retrieve bn from collocations."
   ]
  },
  {
   "cell_type": "code",
   "execution_count": 12,
   "metadata": {
    "collapsed": false
   },
   "outputs": [
    {
     "name": "stdout",
     "output_type": "stream",
     "text": [
      "estimated bn  0.398 should be close to  0.400\n",
      "estimated bn  0.599 should be close to  0.600\n",
      "estimated bn  0.801 should be close to  0.800\n",
      "estimated bn  0.997 should be close to  1.000\n",
      "estimated bn  1.193 should be close to  1.200\n",
      "estimated bn  1.396 should be close to  1.400\n",
      "estimated bn  1.595 should be close to  1.600\n",
      "estimated bn  1.792 should be close to  1.800\n",
      "estimated bn  1.998 should be close to  2.000\n",
      "estimated bn  2.202 should be close to  2.200\n",
      "estimated bn  2.403 should be close to  2.400\n",
      "estimated bn  2.594 should be close to  2.600\n",
      "estimated bn  2.815 should be close to  2.800\n",
      "estimated bn  2.993 should be close to  3.000\n",
      "estimated bn  3.192 should be close to  3.200\n"
     ]
    }
   ],
   "source": [
    "ct = 9.0 ;            ci = 2.0;                         # rand() is random between 0 and 1\n",
    "an = 1.0 ;            cn = 1.0;                         # randn() is Gaussian with 0 mean and SD of 1\n",
    "as = 2.0 ; bs = 1.5 ; cs = 1.5;\n",
    "numb = 10^5;                                            # number of collocations\n",
    "\n",
    "for bn = 0.4:0.2:3.2\n",
    "  TT = ct *  rand(numb);                                # truth\n",
    "  DI = ci * randn(numb);                                # in situ error\n",
    "  DN = cn * randn(numb);                                # nowcast error\n",
    "  DS = cs * randn(numb);                                # satellite error\n",
    "  II =           TT + DI;\n",
    "  NN = an + bn * TT + DN;\n",
    "  SS = as + bs * TT + DS;\n",
    "  @printf(\"estimated bn %6.3f should be close to %6.3f\\n\", cov(NN,SS)/cov(II,SS), bn)\n",
    "end"
   ]
  },
  {
   "cell_type": "markdown",
   "metadata": {},
   "source": [
    "The INFR method employs a slightly more complicated error model:\n",
    "\n",
    "in situ      II =           TT + DI\n",
    "nowcast      NN = an + bn * TT + DN +      gi * DI\n",
    "forecast     FF = af + bf * TT + DF + gf * gi * DI + gf * DN\n",
    "revcast      RR = ar + br * TT + DR + gr * gi * DI + gr * DN\n",
    "\n",
    "but it is necessary to allow for correlated errors, possibly\n",
    "because the in situ data is assimilated by the analysis (gi * DI)\n",
    "or because there is common error in adjacent analysis windows\n",
    "(i.e., taking \"persistence\" as a reasonable forecast or revcast,\n",
    "error sharing is accommodated by nonzero gf/gi/gr).  Retrieval\n",
    "of bn requires a cost function defined by the model covariances"
   ]
  },
  {
   "cell_type": "code",
   "execution_count": 20,
   "metadata": {
    "collapsed": false
   },
   "outputs": [
    {
     "name": "stdout",
     "output_type": "stream",
     "text": [
      "estimated bn  0.446 should be close to  0.400\n",
      "estimated bn  0.729 should be close to  0.600\n",
      "estimated bn  0.688 should be close to  0.800\n",
      "estimated bn  0.994 should be close to  1.000\n",
      "estimated bn  0.942 should be close to  1.200\n",
      "estimated bn  1.067 should be close to  1.400\n",
      "estimated bn  1.192 should be close to  1.600\n",
      "estimated bn  1.321 should be close to  1.800\n",
      "estimated bn  1.521 should be close to  2.000\n",
      "estimated bn  1.701 should be close to  2.200\n",
      "estimated bn  1.763 should be close to  2.400\n",
      "estimated bn  1.923 should be close to  2.600\n",
      "estimated bn  2.064 should be close to  2.800\n",
      "estimated bn  2.553 should be close to  3.000\n",
      "estimated bn  2.760 should be close to  3.200\n"
     ]
    }
   ],
   "source": [
    "ct = 9.0 ;            ci = 2.0 ; gi = 0.5               # rand() is random between 0 and 1\n",
    "an = 1.0 ;            cn = 1.0 ;                        # randn() is Gaussian with 0 mean and SD of 1\n",
    "af = 2.0 ; bf = 1.5 ; cf = 1.5 ; gf = 0.9\n",
    "ar = 3.0 ; br = 0.5 ; cr = 3.0 ; gr = 1.1\n",
    "numb = 10^5;                                            # number of collocations\n",
    "\n",
    "for bn = 0.4:0.2:3.2\n",
    "#for bn = 1.0:1.0\n",
    "  TT = ct *  rand(numb);                                # truth\n",
    "  DI = ci * randn(numb);                                # in situ error\n",
    "  DN = cn * randn(numb);                                # nowcast error\n",
    "  DF = cs * randn(numb);                                # forecast error\n",
    "  DR = cr * randn(numb);                                # revcast error\n",
    "  II =           TT + DI;\n",
    "  NN = an + bn * TT + DN +      gi * DI;\n",
    "  FF = af + bf * TT + DF + gf * gi * DI + gf * DN;\n",
    "  RR = ar + br * TT + DR + gr * gi * DI + gr * DN;\n",
    "\n",
    "  vari = cov(II, II)\n",
    "  varn = cov(NN, NN)\n",
    "  varf = cov(FF, FF)\n",
    "  varr = cov(RR, RR)\n",
    "  cvin = cov(II, NN)\n",
    "  cvif = cov(II, FF)\n",
    "  cvir = cov(II, RR)\n",
    "  cvnf = cov(NN, FF)\n",
    "  cvnr = cov(NN, RR)\n",
    "  cvfr = cov(FF, RR)\n",
    "\n",
    "  function cost(st::Float64, bn::Float64)               # INFR cost function\n",
    "   nbt = varn - bn^2 * st ; inbt = cvin - bn * st\n",
    "    bf = (cvif * nbt - cvnf * inbt) / (st * nbt - bn * st * inbt)\n",
    "    br = (cvir * nbt - cvnr * inbt) / (st * nbt - bn * st * inbt)\n",
    "    fbt = varf - bf^2 * st ; ifbt = cvif - bf * st\n",
    "    rbt = varr - br^2 * st ; irbt = cvir - br * st\n",
    "    nbt < 0 || inbt < 0 || fbt < 0 || ifbt < 0 || rbt < 0 || irbt < 0 && return(9999.0)\n",
    "    sf = varf - bf^2 * st - cvnf + bn * bf * st\n",
    "    sr = varr - br^2 * st - cvnr + bn * br * st\n",
    "    cvfr * nbt - bf * br * st * nbt - (cvnf - bn * bf * st) * (cvnr - bn * br * st) - varr - varf + (bf^2 + br^2) * st + cvnf + cvnr - (bf + br) * bn * st + 1.5 * (sf + sr)\n",
    "  end\n",
    "\n",
    "  minst = minimum([cvin^2 / varn, cvif^2 / varf, cvir^2 / varr])\n",
    "  maxst = vari\n",
    "  intst = collect(linspace(minst, maxst, 100))\n",
    "  minbn = cvin / vari                                   # check cost for values between OLS and RLS\n",
    "  maxbn = varn / cvin\n",
    "  intbn = collect(linspace(minbn, maxbn, 100))\n",
    "  costs = Array(Float64, 100, 100)\n",
    "  for (a, vala) in enumerate(intst), (b, valb) in enumerate(intbn)\n",
    "    costs[a,b] = abs(cost(vala, valb))\n",
    "  end\n",
    "  indst, indbn = ind2sub(costs, findmin(costs)[2])\n",
    "  @printf(\"estimated bn %6.3f should be close to %6.3f\\n\", intbn[indbn], bn)\n",
    "end"
   ]
  }
 ],
 "metadata": {
  "celltoolbar": "Raw Cell Format",
  "kernelspec": {
   "display_name": "Julia 0.4.6-pre",
   "language": "julia",
   "name": "julia-0.4"
  },
  "language_info": {
   "file_extension": ".jl",
   "mimetype": "application/julia",
   "name": "julia",
   "version": "0.4.6"
  }
 },
 "nbformat": 4,
 "nbformat_minor": 2
}
